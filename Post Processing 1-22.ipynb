{
 "cells": [
  {
   "cell_type": "code",
   "execution_count": 1,
   "metadata": {
    "collapsed": false
   },
   "outputs": [
    {
     "name": "stderr",
     "output_type": "stream",
     "text": [
      "Using TensorFlow backend.\n"
     ]
    }
   ],
   "source": [
    "import h5py\n",
    "import numpy as np\n",
    "from build_dataset import PoseVideo\n",
    "import os\n",
    "import moviepy.editor as mpy\n",
    "import tensorflow as tf\n",
    "from keras import layers\n",
    "from keras import models\n",
    "from keras import optimizers\n",
    "import keras.backend as K\n",
    "import cv2\n",
    "import matplotlib.pyplot as plt\n",
    "%matplotlib inline\n",
    "\n",
    "from scipy import ndimage as ndi\n",
    "from skimage.feature import peak_local_max\n",
    "from skimage.draw import circle_perimeter, circle\n",
    "\n",
    "\n",
    "\n"
   ]
  },
  {
   "cell_type": "code",
   "execution_count": 4,
   "metadata": {
    "collapsed": true
   },
   "outputs": [],
   "source": [
    "def get_heatmaps_from_video(video_path, model_path):\n",
    "    \n",
    "    model =  models.load_model(model_path, custom_objects={'tf':tf, \n",
    "                                                             'cv2':cv2,\n",
    "                                                             'total_frames':5, \n",
    "                                                             'num_bodyparts':6, \n",
    "                                                             'frame_height':224,\n",
    "                                                             'frame_width':224,\n",
    "                                                             'frame_channels':3})\n",
    "\n",
    "    vid_data = PoseVideo(video_path)\n",
    "    labelled_frames = []\n",
    "    frames = []\n",
    "    for batch in vid_data.predict_data:\n",
    "#         labelled_frames1.extend(model.predict_on_batch(batch)[0])\n",
    "#         print(model.predict_on_batch(batch)[1].shape)\n",
    "        labelled_frames.extend(model.predict_on_batch(batch))\n",
    "        frames.extend(batch)\n",
    "        \n",
    "    return {'heatmaps' : labelled_frames, 'frames' : frames} \n",
    "\n",
    "def find_peaks(frame):\n",
    "    image_max = ndi.maximum_filter(frame, size=15)\n",
    "    #print('image_max ', image_max)\n",
    "    coordinates = peak_local_max(np.squeeze(frame), threshold_abs=0.3,  min_distance=15)\n",
    "    #plt.imshow(np.squeeze(image_max))\n",
    "    \n",
    "    return {'coordinates' : coordinates}\n",
    "\n",
    "\n",
    "def get_pos_from_heatmaps(labelled_frames):\n",
    "    coordinates = []\n",
    "    for frame in labelled_frames:\n",
    "        data = find_peaks(frame)\n",
    "        coordinates.append(data)\n",
    "    \n",
    "    return coordinates\n",
    "    \n",
    "def get_flow_from_heatmaps(heatmap_arr):\n",
    "    pass\n",
    "\n",
    "def yield_heatmap_batch(heatmap_arr):\n",
    "    final  = len(heatmap_arr['heatmaps'])\n",
    "    batchsize = 5\n",
    "    start = 0\n",
    "    while(1):\n",
    "        if start >= final-batchsize:\n",
    "            return np.array(heatmap_arr['heatmaps'][start:final])\n",
    "        elif start < final -  batchsize:\n",
    "            yield np.array(heatmap_arr['heatmaps'][start:start+batchsize])\n",
    "            start +=  batchsize\n",
    "            \n",
    "def predict_heatmaps_from_video(model_path, heatmap_arr):\n",
    "    \n",
    "    model =  models.load_model(model_path, custom_objects={'tf':tf, \n",
    "                                                             'cv2':cv2,\n",
    "                                                             'total_frames':5, \n",
    "                                                             'num_bodyparts':6, \n",
    "                                                             'frame_height':224,\n",
    "                                                             'frame_width':224,\n",
    "                                                             'frame_channels':3})\n",
    "    \n",
    "    vid_data = yield_heatmap_batch(heatmap_arr)\n",
    "    central_heatmaps = []\n",
    "    while(1):\n",
    "        try:\n",
    "            data = next(vid_data)\n",
    "            central_heatmaps.append(model.predict_on_batch(np.expand_dims(data, axis=0)))\n",
    "        except StopIteration:\n",
    "            return central_heatmaps\n",
    "    return central_heatmaps\n",
    "        "
   ]
  },
  {
   "cell_type": "code",
   "execution_count": 5,
   "metadata": {
    "collapsed": true
   },
   "outputs": [],
   "source": [
    "video_path = r\"/home/bhandawatlab_duke/deep-pose-predict/181023_1_12_video2.avi\"\n",
    "heatmap_model_path = r\"/home/bhandawatlab_duke/Pose-Estimation-Keras/pretrained_models/heatmap_generator_1.h5\"\n",
    "flow_model_path = r\"/home/bhandawatlab_duke/Pose-Estimation-Keras/pretrained_models/optical_flow_corrector_1.h5\"\n",
    "\n",
    "heatmap_arr =  get_heatmaps_from_video(video_path, heatmap_model_path)"
   ]
  },
  {
   "cell_type": "code",
   "execution_count": null,
   "metadata": {
    "collapsed": false
   },
   "outputs": [
    {
     "name": "stdout",
     "output_type": "stream",
     "text": [
      "Total Heatmaps 1935\n",
      "Shape of each heatmap (224, 224, 6)\n"
     ]
    }
   ],
   "source": [
    "print('Total Heatmaps', len(heatmap_arr['heatmaps']))\n",
    "print('Shape of each heatmap', heatmap_arr['heatmaps'][1].shape)"
   ]
  },
  {
   "cell_type": "code",
   "execution_count": null,
   "metadata": {
    "collapsed": false
   },
   "outputs": [],
   "source": [
    "central_heatmaps = predict_heatmaps_from_video(flow_model_path, heatmap_arr)"
   ]
  },
  {
   "cell_type": "code",
   "execution_count": null,
   "metadata": {
    "collapsed": false
   },
   "outputs": [],
   "source": [
    "print('Total Heatmaps', len(central_heatmaps))\n",
    "print('Shape of each heatmap', central_heatmaps[1].shape)"
   ]
  },
  {
   "cell_type": "code",
   "execution_count": null,
   "metadata": {
    "collapsed": false
   },
   "outputs": [],
   "source": [
    "plt.imshow(np.squeeze(central_heatmaps[1][0, ..., 1]))"
   ]
  },
  {
   "cell_type": "code",
   "execution_count": null,
   "metadata": {
    "collapsed": false
   },
   "outputs": [],
   "source": [
    "plt.imshow(heatmap_arr['heatmaps'][5][:, :, 5])"
   ]
  },
  {
   "cell_type": "code",
   "execution_count": null,
   "metadata": {
    "collapsed": true
   },
   "outputs": [],
   "source": []
  }
 ],
 "metadata": {
  "kernelspec": {
   "display_name": "Python [conda env:py35]",
   "language": "python",
   "name": "conda-env-py35-py"
  },
  "language_info": {
   "codemirror_mode": {
    "name": "ipython",
    "version": 3
   },
   "file_extension": ".py",
   "mimetype": "text/x-python",
   "name": "python",
   "nbconvert_exporter": "python",
   "pygments_lexer": "ipython3",
   "version": "3.5.3"
  }
 },
 "nbformat": 4,
 "nbformat_minor": 0
}
